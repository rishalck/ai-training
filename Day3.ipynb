{
 "cells": [
  {
   "cell_type": "code",
   "execution_count": null,
   "id": "e717b367",
   "metadata": {},
   "outputs": [],
   "source": [
    "#while loop\n",
    "#1.get the user name and password from user\n",
    "#2.define a std username and password\n",
    "#3.Loging sucessful\n",
    "#4.attents=3"
   ]
  },
  {
   "cell_type": "code",
   "execution_count": 2,
   "id": "f0cbff8b",
   "metadata": {},
   "outputs": [
    {
     "name": "stdout",
     "output_type": "stream",
     "text": [
      "only2attempts there\n",
      "only1attempts there\n",
      "only0attempts there\n",
      "you tried so many time.... better luck next time\n"
     ]
    }
   ],
   "source": [
    "username=\"isha\"\n",
    "password=\"1234\"\n",
    "attempts=3\n",
    "while attempts>0:\n",
    "    username1=input(\"enter the username\")\n",
    "    password1=input(\"enter the password\")\n",
    "    if(username==username1 and password==password1):\n",
    "        print(\"Login sucessful\")\n",
    "        break\n",
    "    else:\n",
    "        attempts-=1\n",
    "        print(f\"only{attempts}attempts there\")\n",
    "if(attempts==0):\n",
    "    print(\"you tried so many time.... better luck next time\") \n",
    "\n"
   ]
  },
  {
   "cell_type": "code",
   "execution_count": 38,
   "id": "06b18b2f",
   "metadata": {},
   "outputs": [
    {
     "name": "stdout",
     "output_type": "stream",
     "text": [
      "insuffient balance\n"
     ]
    }
   ],
   "source": [
    "# enter the bank balance\n",
    "# enter the withdraw amount\n",
    "# define pin number \n",
    "# then get the pin from user\n",
    "# give attempts \n",
    "\n",
    "PIN = \"1234\"\n",
    "bank_balance = 10000\n",
    "attempts=2\n",
    "\n",
    "while attempts>0:\n",
    "    PIN1=input(\"enter the pin\")\n",
    "\n",
    "    if PIN==PIN1:\n",
    "        withdraw_amount = int(input(\"enter the amount\"))\n",
    "\n",
    "        if withdraw_amount > bank_balance:\n",
    "            print(\"insuffient balance\")\n",
    "\n",
    "        else:\n",
    "            bank_balance-=withdraw_amount\n",
    "            print(f\"Withdrawal successful. New balance: {bank_balance}\")\n",
    "        break\n",
    "    else:\n",
    "            attempt -= 1\n",
    "    \n",
    "         \n",
    "         \n",
    "    \n",
    "\n"
   ]
  },
  {
   "cell_type": "code",
   "execution_count": null,
   "id": "23404f0c",
   "metadata": {},
   "outputs": [],
   "source": [
    "#use while loop\n",
    "#get the feedback\n",
    "#if i give stop it print like \"thank you\"\n",
    "while True:\n",
    "    feed_back=input(\"enter the feed back:\")\n",
    "    if (feed_back==\"stop\"):\n",
    "        print(\"thankyou\")\n",
    "        break\n",
    "\n"
   ]
  },
  {
   "cell_type": "code",
   "execution_count": 3,
   "id": "68d34e75",
   "metadata": {},
   "outputs": [
    {
     "name": "stdout",
     "output_type": "stream",
     "text": [
      "\n"
     ]
    }
   ],
   "source": [
    "#function-def keyword\n",
    "def my_func():   # ivde kodknath parameters\n",
    "    print()\n",
    "my_func()        # argument"
   ]
  },
  {
   "cell_type": "code",
   "execution_count": 10,
   "id": "a1f531e4",
   "metadata": {},
   "outputs": [
    {
     "name": "stdout",
     "output_type": "stream",
     "text": [
      "the name is ('abc', 'ccc', 'bbb')\n"
     ]
    }
   ],
   "source": [
    "#keyword argument\n",
    "#adding variable in function\n",
    "def my_f(child1,child2,child3):\n",
    "    print(f\"the name is {child1,child2,child3}\")\n",
    "my_f (child1 = \"abc\" , child2= \"ccc\" ,child3=\"bbb\")\n"
   ]
  },
  {
   "cell_type": "code",
   "execution_count": null,
   "id": "c80b8ccf",
   "metadata": {},
   "outputs": [
    {
     "name": "stdout",
     "output_type": "stream",
     "text": [
      "my child name is ccccc\n"
     ]
    }
   ],
   "source": [
    "#arbitary argument - we don't know how many\n",
    "#argument we passed here - * - pass the value\n",
    "#\n",
    "def my_func(*childs):\n",
    "    print(f\"my child name is {childs[4]}\")\n",
    "my_func(\"aaa\",\"bbbb\",\"cccc\",\"dddd\",\"ccccc\")\n"
   ]
  },
  {
   "cell_type": "code",
   "execution_count": 6,
   "id": "57910d2f",
   "metadata": {},
   "outputs": [
    {
     "name": "stdout",
     "output_type": "stream",
     "text": [
      "the fruit feature is circle\n"
     ]
    }
   ],
   "source": [
    "#arbitary keyword argument-** - assign the value\n",
    "def myfunc(**fruits):\n",
    "    print(f\"the fruit feature is {fruits[\"shape\"]}\")\n",
    "myfunc(fruitname=\"orange\",color=\"orange\",shape=\"circle\")\n"
   ]
  },
  {
   "cell_type": "code",
   "execution_count": 12,
   "id": "63a18c4d",
   "metadata": {},
   "outputs": [
    {
     "name": "stdout",
     "output_type": "stream",
     "text": [
      "my country name is india\n",
      "my country name is USA\n",
      "my country name is china\n",
      "my country name is america\n"
     ]
    }
   ],
   "source": [
    "#default parameter\n",
    "def myfun(country = \"india\"):\n",
    "    print(f\"my country name is {country}\")\n",
    "myfun()\n",
    "myfun(\"USA\")\n",
    "myfun(\"china\")\n",
    "myfun(\"america\")"
   ]
  },
  {
   "cell_type": "code",
   "execution_count": 1,
   "id": "bdfa0b87",
   "metadata": {},
   "outputs": [
    {
     "data": {
      "text/plain": [
       "25"
      ]
     },
     "execution_count": 1,
     "metadata": {},
     "output_type": "execute_result"
    }
   ],
   "source": [
    "def myfun(x):\n",
    "    return 5*x\n",
    "myfun(5)"
   ]
  },
  {
   "cell_type": "code",
   "execution_count": null,
   "id": "e3285029",
   "metadata": {},
   "outputs": [],
   "source": [
    "#LEGB\n",
    "# L - LOCAL\n",
    "# E - ENCLOSING\n",
    "# G - GLOBAL\n",
    "# B - BUILT IN FUNCTION\n"
   ]
  },
  {
   "cell_type": "code",
   "execution_count": 32,
   "id": "be1c7d1b",
   "metadata": {},
   "outputs": [
    {
     "name": "stdout",
     "output_type": "stream",
     "text": [
      "global\n"
     ]
    }
   ],
   "source": [
    "X=\"global\"\n",
    "def outer():\n",
    "    x=\"Enclosing\"\n",
    "    def inner():\n",
    "        #x=\"local\"\n",
    "        print(X)\n",
    "    inner()\n",
    "outer()\n",
    "    \n"
   ]
  },
  {
   "cell_type": "code",
   "execution_count": 31,
   "id": "3c6e5bf8",
   "metadata": {},
   "outputs": [
    {
     "name": "stdout",
     "output_type": "stream",
     "text": [
      "2\n",
      "3\n",
      "5\n",
      "7\n",
      "11\n",
      "13\n",
      "17\n",
      "19\n"
     ]
    }
   ],
   "source": [
    "#prime number = 2,3,5,7,11,13.........\n",
    "def primenumber(n):\n",
    "    if(n<=1):\n",
    "        return False\n",
    "    for i in range(2,n):\n",
    "        if(n%i==0):\n",
    "            return False\n",
    "    return True\n",
    "for i in range (1,20):\n",
    "    if primenumber(i):\n",
    "             print(i)\n"
   ]
  },
  {
   "cell_type": "code",
   "execution_count": 35,
   "id": "cda03255",
   "metadata": {},
   "outputs": [
    {
     "data": {
      "text/plain": [
       "24"
      ]
     },
     "execution_count": 35,
     "metadata": {},
     "output_type": "execute_result"
    }
   ],
   "source": [
    "#Find the factoria number\n",
    "def factorial(n):\n",
    "    result = 1\n",
    "    for i in range(1,n+1):\n",
    "        result*=i\n",
    "    return result\n",
    "factorial(4)"
   ]
  },
  {
   "cell_type": "code",
   "execution_count": 41,
   "id": "7f6836b4",
   "metadata": {},
   "outputs": [
    {
     "name": "stdout",
     "output_type": "stream",
     "text": [
      "its an palindrome\n"
     ]
    }
   ],
   "source": [
    "#Palindrome\n",
    "def palindrome(s):\n",
    "    s.lower()\n",
    "    if(s==s[::-1]):\n",
    "        print(\"its an palindrome\")\n",
    "    else:\n",
    "        print(\"its not an palindrome\")\n",
    "palindrome(\"121\")    "
   ]
  }
 ],
 "metadata": {
  "kernelspec": {
   "display_name": "Python 3",
   "language": "python",
   "name": "python3"
  },
  "language_info": {
   "codemirror_mode": {
    "name": "ipython",
    "version": 3
   },
   "file_extension": ".py",
   "mimetype": "text/x-python",
   "name": "python",
   "nbconvert_exporter": "python",
   "pygments_lexer": "ipython3",
   "version": "3.13.2"
  }
 },
 "nbformat": 4,
 "nbformat_minor": 5
}
