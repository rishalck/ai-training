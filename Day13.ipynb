{
 "cells": [
  {
   "cell_type": "code",
   "execution_count": null,
   "id": "8670657d",
   "metadata": {},
   "outputs": [
    {
     "name": "stdout",
     "output_type": "stream",
     "text": [
      "5\n",
      "[1 2 3 4 5]\n",
      "[[1 2]\n",
      " [3 4]]\n"
     ]
    }
   ],
   "source": [
    "#numpy - numerical python()\n",
    "\n",
    "import numpy as np\n",
    "scalar = 5\n",
    "vector = np.array([1,2,3,4,5])\n",
    "matrix = np.matrix([[1,2],[3,4]])\n",
    "print(scalar)\n",
    "print(vector)\n",
    "print(matrix)\n",
    "\n"
   ]
  },
  {
   "cell_type": "code",
   "execution_count": 4,
   "id": "866c9385",
   "metadata": {},
   "outputs": [
    {
     "name": "stdout",
     "output_type": "stream",
     "text": [
      "2\n",
      "[1 2 3]\n",
      "([1], [2], [3])\n"
     ]
    }
   ],
   "source": [
    "print(np.linalg.matrix_rank(matrix))\n",
    "row_wise = np.array([1,2,3])\n",
    "colomn_wise = ([1],[2],[3])\n",
    "print(row_wise)\n",
    "print(colomn_wise)"
   ]
  },
  {
   "cell_type": "code",
   "execution_count": 5,
   "id": "3fb1ea08",
   "metadata": {},
   "outputs": [
    {
     "name": "stdout",
     "output_type": "stream",
     "text": [
      "[[ 1  4]\n",
      " [ 9 16]]\n",
      "[[2 4]\n",
      " [6 8]]\n"
     ]
    }
   ],
   "source": [
    "v1 = np.array([[1,2],[3,4]])\n",
    "v2 = np.array([[1,2],[3,4]])\n",
    "print(v1*v2)\n",
    "print(2*v1)"
   ]
  },
  {
   "cell_type": "code",
   "execution_count": 6,
   "id": "e82e4dd3",
   "metadata": {},
   "outputs": [
    {
     "name": "stdout",
     "output_type": "stream",
     "text": [
      "[[ 7 10]\n",
      " [15 22]]\n",
      "[[ 1  4]\n",
      " [ 9 16]]\n"
     ]
    }
   ],
   "source": [
    "v1 = np.array([[1,2],[3,4]])\n",
    "v2 = np.array([[1,2],[3,4]])\n",
    "print(np.dot(v1,v2))\n",
    "print(v1*v2)"
   ]
  },
  {
   "cell_type": "code",
   "execution_count": 7,
   "id": "55b667e3",
   "metadata": {},
   "outputs": [
    {
     "name": "stdout",
     "output_type": "stream",
     "text": [
      "[[ -3   6  -3]\n",
      " [ 24  12 -46]]\n"
     ]
    }
   ],
   "source": [
    "#transpose matrix\n",
    "v1=np.array([[1,2,3],[7,9,6]])\n",
    "v2=np.array([[4,5,6],[9,5,6]])\n",
    "cross=np.cross(v1,v2)\n",
    "print(cross)"
   ]
  },
  {
   "cell_type": "code",
   "execution_count": 8,
   "id": "5deb4665",
   "metadata": {},
   "outputs": [
    {
     "name": "stdout",
     "output_type": "stream",
     "text": [
      "37\n"
     ]
    }
   ],
   "source": [
    "a = [1,2,3]\n",
    "b = [9,5,6]\n",
    "# use dot product \n",
    "# output 32\n",
    "result = 0\n",
    "for i in range(len(a)):\n",
    "    result+=a[i]*b[i]\n",
    "print(result)"
   ]
  },
  {
   "cell_type": "code",
   "execution_count": 16,
   "id": "64a1c639",
   "metadata": {},
   "outputs": [
    {
     "name": "stdout",
     "output_type": "stream",
     "text": [
      "transpose\n",
      "[1, 4]\n",
      "[2, 5]\n",
      "[3, 6]\n"
     ]
    }
   ],
   "source": [
    "\n",
    "\n",
    "m = [[1,2,3],\n",
    "     [4,5,6]]\n",
    "rows = len(m)\n",
    "cols = len(m[0])\n",
    "T = []\n",
    "for j in range(cols):\n",
    "    new_row=[]\n",
    "    for i in range(rows):\n",
    "        new_row.append(m[i][j])\n",
    "    T.append(new_row)\n",
    "print(\"transpose\")\n",
    "for row in T:\n",
    "    print(row)\n"
   ]
  },
  {
   "cell_type": "code",
   "execution_count": 17,
   "id": "72613ecb",
   "metadata": {},
   "outputs": [
    {
     "name": "stdout",
     "output_type": "stream",
     "text": [
      "[[6, 1, 1], [4, -2, 5], [2, 8, 7]]\n",
      "[[ 0.17647059 -0.00326797 -0.02287582]\n",
      " [ 0.05882353 -0.13071895  0.08496732]\n",
      " [-0.11764706  0.1503268   0.05228758]]\n",
      "-306.0\n"
     ]
    }
   ],
   "source": [
    "#mathematical fountation\n",
    "#->linear algebra, probability, statics, hypothesis\n",
    "#inverse of a matrix\n",
    "# =1/|A|.adjA\n",
    "\n",
    "#inverse\n",
    "import numpy as np\n",
    "m1 = ([[6,1,1],[4,-2,5],[2,8,7]])\n",
    "print(m1)\n",
    "#inv\n",
    "print(np.linalg.inv(m1))\n",
    "#det\n",
    "print(np.linalg.det(m1))\n"
   ]
  },
  {
   "cell_type": "code",
   "execution_count": null,
   "id": "d908bf55",
   "metadata": {},
   "outputs": [
    {
     "name": "stdout",
     "output_type": "stream",
     "text": [
      "[5. 2.]\n",
      "[[ 0.89442719 -0.70710678]\n",
      " [ 0.4472136   0.70710678]]\n"
     ]
    }
   ],
   "source": [
    "from numpy.linalg import eig\n",
    "matrix = np.matrix([[4,2],[1,3]])\n",
    "vals,vect = eig(matrix)\n",
    "print(vals)\n",
    "print(vect)"
   ]
  },
  {
   "cell_type": "code",
   "execution_count": 26,
   "id": "a4487b2a",
   "metadata": {},
   "outputs": [
    {
     "data": {
      "image/png": "[encoded data removed]",
      "text/plain": [
       "<Figure size 640x480 with 1 Axes>"
      ]
     },
     "metadata": {},
     "output_type": "display_data"
    }
   ],
   "source": [
    "import matplotlib.pyplot as plt \n",
    "import seaborn as sns\n",
    "import plotly\n",
    "plt.quiver(1,0,0,2,color = \"red\")\n",
    "plt.quiver(1,0,2,3,color = \"blue\")\n",
    "plt.xlim(-5,1)\n",
    "plt.ylim(-5,1)\n",
    "plt.show()"
   ]
  },
  {
   "cell_type": "code",
   "execution_count": 30,
   "id": "91d7fe4d",
   "metadata": {},
   "outputs": [],
   "source": [
    "def isidentityMatrix(mat):\n",
    "    n = len(mat)\n",
    "    for i in range(n):\n",
    "        for j in range(n):\n",
    "            if i == j:\n",
    "                if mat[i][j] != 0:\n",
    "                    return False\n",
    "                else:\n",
    "                    if mat[i][j] !=0:\n",
    "                        return False\n",
    "    return True\n",
    "\n"
   ]
  },
  {
   "cell_type": "code",
   "execution_count": null,
   "id": "c0821312",
   "metadata": {},
   "outputs": [],
   "source": []
  }
 ],
 "metadata": {
  "kernelspec": {
   "display_name": "Python 3",
   "language": "python",
   "name": "python3"
  },
  "language_info": {
   "codemirror_mode": {
    "name": "ipython",
    "version": 3
   },
   "file_extension": ".py",
   "mimetype": "text/x-python",
   "name": "python",
   "nbconvert_exporter": "python",
   "pygments_lexer": "ipython3",
   "version": "3.13.2"
  }
 },
 "nbformat": 4,
 "nbformat_minor": 5
}
