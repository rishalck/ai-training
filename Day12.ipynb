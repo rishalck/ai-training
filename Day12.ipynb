{
 "cells": [
  {
   "cell_type": "code",
   "execution_count": 5,
   "id": "023adabb",
   "metadata": {},
   "outputs": [
    {
     "name": "stdout",
     "output_type": "stream",
     "text": [
      "5\n",
      "[1 2 3 4 5]\n",
      "[[1 2]\n",
      " [3 4]]\n"
     ]
    }
   ],
   "source": [
    "#scalar,vector,linearalgebra\n",
    "#ATS score\n",
    "\n",
    "#scalara-> x=4\n",
    "#vector-> x=[2,3,4,5,7]    one-dimensional datat\n",
    "#matrix->x=[[2,3],[4,5],[6,7]]   two-dimensional data\n",
    "#tensor\n",
    "\n",
    "#numpy-numerical python -> to do mathmatical calculation\n",
    "#pytorch\n",
    "\n",
    "\n",
    "import numpy as np\n",
    "scalar=5\n",
    "vector=np.array([1,2,3,4,5])\n",
    "matrix=np.matrix([[1,2],[3,4]])\n",
    "print(scalar)\n",
    "print(vector)\n",
    "print(matrix)"
   ]
  },
  {
   "cell_type": "code",
   "execution_count": 6,
   "id": "3518c15e",
   "metadata": {},
   "outputs": [
    {
     "name": "stdout",
     "output_type": "stream",
     "text": [
      "5\n",
      "(5,)\n",
      "(2, 2)\n"
     ]
    }
   ],
   "source": [
    "import numpy as np\n",
    "scalar=5\n",
    "vector=np.array([1,2,3,4,5])\n",
    "matrix=np.matrix([[1,2],[3,4]])\n",
    "print(scalar)\n",
    "print(vector.shape)\n",
    "print(matrix.shape)"
   ]
  },
  {
   "cell_type": "code",
   "execution_count": null,
   "id": "d4069d0f",
   "metadata": {},
   "outputs": [
    {
     "name": "stdout",
     "output_type": "stream",
     "text": [
      "5\n",
      "1\n",
      "2\n"
     ]
    }
   ],
   "source": [
    "import numpy as np\n",
    "scalar=5\n",
    "vector=np.array([1,2,3,4,5])\n",
    "matrix=np.matrix([[1,2],[3,4]])\n",
    "print(scalar)\n",
    "print(vector.ndim)\n",
    "print(matrix.ndim)"
   ]
  },
  {
   "cell_type": "code",
   "execution_count": 11,
   "id": "9274f7da",
   "metadata": {},
   "outputs": [
    {
     "name": "stdout",
     "output_type": "stream",
     "text": [
      "5\n",
      "1\n",
      "2\n",
      "2\n"
     ]
    }
   ],
   "source": [
    "import numpy as np\n",
    "scalar=5\n",
    "vector=np.array([1,2,3,4,5])\n",
    "matrix=np.matrix([[1,2],[3,4],[5,6]])\n",
    "print(scalar)\n",
    "print(vector.ndim)\n",
    "print(matrix.ndim)\n",
    "print(np.linalg.matrix_rank(matrix))"
   ]
  },
  {
   "cell_type": "code",
   "execution_count": 12,
   "id": "4a0a55a5",
   "metadata": {},
   "outputs": [
    {
     "name": "stdout",
     "output_type": "stream",
     "text": [
      "[1 2 3]\n",
      "[[1]\n",
      " [2]\n",
      " [3]]\n"
     ]
    }
   ],
   "source": [
    "row_wise=np.array([1,2,3])\n",
    "col_wise=np.array([[1],[2],[3]])\n",
    "print(row_wise)\n",
    "print(col_wise)"
   ]
  },
  {
   "cell_type": "code",
   "execution_count": 13,
   "id": "b9f2a791",
   "metadata": {},
   "outputs": [
    {
     "name": "stdout",
     "output_type": "stream",
     "text": [
      "(3,)\n",
      "(3, 1)\n"
     ]
    }
   ],
   "source": [
    "row_wise=np.array([1,2,3])\n",
    "col_wise=np.array([[1],[2],[3]])\n",
    "print(row_wise.shape)\n",
    "print(col_wise.shape)"
   ]
  },
  {
   "cell_type": "code",
   "execution_count": 14,
   "id": "a7939517",
   "metadata": {},
   "outputs": [
    {
     "name": "stdout",
     "output_type": "stream",
     "text": [
      "1\n",
      "2\n"
     ]
    }
   ],
   "source": [
    "row_wise=np.array([1,2,3])\n",
    "col_wise=np.array([[1],[2],[3]])\n",
    "print(row_wise.ndim)\n",
    "print(col_wise.ndim)"
   ]
  },
  {
   "cell_type": "code",
   "execution_count": 15,
   "id": "9b1cb8a5",
   "metadata": {},
   "outputs": [
    {
     "name": "stdout",
     "output_type": "stream",
     "text": [
      "[[ 1  4]\n",
      " [ 9 16]]\n",
      "[[2 4]\n",
      " [6 8]]\n"
     ]
    }
   ],
   "source": [
    "v1=np.array([[1,2],[3,4]])\n",
    "\n",
    "v2=np.array([[1,2],[3,4]])\n",
    "print(v1*v2)\n",
    "print(2*v1)"
   ]
  },
  {
   "cell_type": "code",
   "execution_count": null,
   "id": "3423a69a",
   "metadata": {},
   "outputs": [
    {
     "name": "stdout",
     "output_type": "stream",
     "text": [
      "[[ 7 10]\n",
      " [15 22]]\n",
      "\n",
      "[[ 1  4]\n",
      " [ 9 16]]\n"
     ]
    }
   ],
   "source": [
    "#dot product and normal multiplication\n",
    "\n",
    "v1=np.array([[1,2],[3,4]])\n",
    "\n",
    "v2=np.array([[1,2],[3,4]])\n",
    "print(np.dot(v1,v2))\n",
    "print()\n",
    "print(v1*v2)"
   ]
  },
  {
   "cell_type": "code",
   "execution_count": null,
   "id": "f6dcd063",
   "metadata": {},
   "outputs": [
    {
     "name": "stdout",
     "output_type": "stream",
     "text": [
      "[[1 3]\n",
      " [2 4]]\n"
     ]
    }
   ],
   "source": [
    "#Transpose of a matrix\n",
    "v1=np.array([[1,2],[3,4]])\n",
    "\n",
    "print(v1.T)"
   ]
  },
  {
   "cell_type": "code",
   "execution_count": null,
   "id": "77115144",
   "metadata": {},
   "outputs": [
    {
     "name": "stdout",
     "output_type": "stream",
     "text": [
      "[0 0]\n"
     ]
    },
    {
     "name": "stderr",
     "output_type": "stream",
     "text": [
      "C:\\Users\\mohammed razeen\\AppData\\Local\\Temp\\ipykernel_780\\3027036088.py:5: DeprecationWarning: Arrays of 2-dimensional vectors are deprecated. Use arrays of 3-dimensional vectors instead. (deprecated in NumPy 2.0)\n",
      "  print(np.cross(v1,v2))\n"
     ]
    }
   ],
   "source": [
    "#cross product of two vectors\n",
    "v1=np.array([[1,2],[3,4]])\n",
    "\n",
    "v2=np.array([[1,2],[3,4]])\n",
    "\n",
    "print(np.cross(v1,v2))"
   ]
  },
  {
   "cell_type": "code",
   "execution_count": null,
   "id": "ae37eff3",
   "metadata": {},
   "outputs": [],
   "source": [
    "v1=np.array([[1,2,3,4],[5,6,7,8]])\n",
    "\n",
    "v2=np.array([[5,6,7,8],[0,]])"
   ]
  },
  {
   "cell_type": "code",
   "execution_count": 21,
   "id": "4cf9049b",
   "metadata": {},
   "outputs": [
    {
     "name": "stdout",
     "output_type": "stream",
     "text": [
      "[[ -3   6  -3]\n",
      " [ 24  12 -46]]\n"
     ]
    }
   ],
   "source": [
    "v1=np.array([[1,2,3],[7,9,6]])\n",
    "v2=np.array([[4,5,6],[9,5,6]])\n",
    "cross=np.cross(v1,v2)\n",
    "print(cross)"
   ]
  },
  {
   "cell_type": "code",
   "execution_count": null,
   "id": "66309422",
   "metadata": {},
   "outputs": [
    {
     "name": "stdout",
     "output_type": "stream",
     "text": [
      "32\n"
     ]
    }
   ],
   "source": [
    "A=[1,2,3]\n",
    "B=[4,5,6]\n",
    "#use dot product\n",
    "#output 32\n",
    "print(np.dot(A, B)) \n",
    "\n"
   ]
  },
  {
   "cell_type": "code",
   "execution_count": 23,
   "id": "022519a9",
   "metadata": {},
   "outputs": [
    {
     "name": "stdout",
     "output_type": "stream",
     "text": [
      "32\n"
     ]
    }
   ],
   "source": [
    "A=[1,2,3]\n",
    "B=[4,5,6]\n",
    "\n",
    "result=0\n",
    "\n",
    "for i in range(len(A)):\n",
    "    result+=A[i]*B[i]\n",
    "print(result)"
   ]
  },
  {
   "cell_type": "code",
   "execution_count": null,
   "id": "0582bc88",
   "metadata": {},
   "outputs": [],
   "source": [
    "A=[1,2,3]\n",
    "B=[4,5,6]\n",
    "\n",
    "\n",
    "#input [[1,2,3],[4,5,6]]\n",
    "#output [[1 4]\n",
    "#        [2 5]\n",
    "#        [3 6]]\n",
    "\n",
    "\n",
    "transpose=0\n",
    "for col in range(len(A)):\n",
    "    \n",
    "\n"
   ]
  },
  {
   "cell_type": "code",
   "execution_count": 2,
   "id": "2d8ed237",
   "metadata": {},
   "outputs": [
    {
     "name": "stdout",
     "output_type": "stream",
     "text": [
      "Transpose:\n",
      "[1, 4]\n",
      "[2, 5]\n",
      "[3, 6]\n"
     ]
    }
   ],
   "source": [
    "m = [[1, 2, 3],[4, 5, 6]]\n",
    "\n",
    "rows = len(m)\n",
    "cols = len(m[0])\n",
    "T = []\n",
    "for j in range(cols):\n",
    "    new_row=[]\n",
    "    for i in range(rows):\n",
    "        new_row.append(m[i][j])\n",
    "    T.append(new_row)\n",
    "print(\"Transpose:\")\n",
    "for row in T:\n",
    "    print(row)\n"
   ]
  }
 ],
 "metadata": {
  "kernelspec": {
   "display_name": "Python 3",
   "language": "python",
   "name": "python3"
  },
  "language_info": {
   "codemirror_mode": {
    "name": "ipython",
    "version": 3
   },
   "file_extension": ".py",
   "mimetype": "text/x-python",
   "name": "python",
   "nbconvert_exporter": "python",
   "pygments_lexer": "ipython3",
   "version": "3.13.2"
  }
 },
 "nbformat": 4,
 "nbformat_minor": 5
}
