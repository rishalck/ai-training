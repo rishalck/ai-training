{
 "cells": [
  {
   "cell_type": "code",
   "execution_count": 1,
   "id": "7fc8d7f1",
   "metadata": {},
   "outputs": [],
   "source": [
    "# problems or algorithms in backtracking\n",
    "\n",
    "# 1. enqueen problem\n",
    "# 2. hamiltonion problem\n",
    "# 3. subset problem\n",
    "# 4. stable marriage problem\n",
    "# 5. sudoku problem"
   ]
  },
  {
   "cell_type": "code",
   "execution_count": 2,
   "id": "97d1c201",
   "metadata": {},
   "outputs": [],
   "source": [
    "# Tree data structure.\n",
    "\n",
    "# Types: 1. binary tree     2. binary search tree       3. aviant tree      4. red black tree"
   ]
  },
  {
   "cell_type": "code",
   "execution_count": 14,
   "id": "2ccfc403",
   "metadata": {},
   "outputs": [
    {
     "name": "stdout",
     "output_type": "stream",
     "text": [
      "CEO\n",
      " CFO\n",
      " CTO\n",
      "  QA\n",
      "  Dev\n",
      " COO\n",
      "  OPS\n"
     ]
    }
   ],
   "source": [
    "# Tree Implementation\n",
    "\n",
    "# Node creation\n",
    "class TreeNode:\n",
    "    def __init__(self, value):\n",
    "        self.value = value\n",
    "        self.children = []\n",
    "\n",
    "# Creating nodes\n",
    "ceo = TreeNode('CEO')\n",
    "cfo = TreeNode('CFO')\n",
    "cto = TreeNode('CTO')\n",
    "coo = TreeNode('COO')\n",
    "qa = TreeNode('QA')\n",
    "dev = TreeNode('Dev')\n",
    "ops = TreeNode('OPS')\n",
    "\n",
    "# Creating parent-child relationships\n",
    "ceo.children = [cfo, cto, coo]\n",
    "cto.children = [qa, dev]\n",
    "coo.children = [ops]\n",
    "\n",
    "# Tree traversal\n",
    "def traverse(node, level=0):\n",
    "    print(' ' * level + node.value)\n",
    "    for child in node.children:\n",
    "        traverse(child, level + 1)\n",
    "\n",
    "# Run the traversal\n",
    "traverse(ceo)\n"
   ]
  },
  {
   "cell_type": "code",
   "execution_count": 19,
   "id": "e7861417",
   "metadata": {},
   "outputs": [
    {
     "name": "stdout",
     "output_type": "stream",
     "text": [
      "   40\n",
      "  30\n",
      "   25\n",
      " 20\n",
      "   18\n",
      "  10\n",
      "   5\n",
      "\n",
      " Inorder traversal \n",
      "\n",
      "5\n",
      "10\n",
      "18\n",
      "20\n",
      "25\n",
      "30\n",
      "40\n",
      "\n",
      " Preorder traversal \n",
      "\n",
      "20\n",
      "10\n",
      "5\n",
      "18\n",
      "30\n",
      "25\n",
      "40\n",
      "\n",
      " Postorder traversal \n",
      "\n",
      "5\n",
      "18\n",
      "10\n",
      "25\n",
      "40\n",
      "30\n",
      "20\n"
     ]
    }
   ],
   "source": [
    "# binary tree\n",
    "\n",
    "class Node:\n",
    "    def __init__(self, val):\n",
    "        self.val = val\n",
    "        self.left = None\n",
    "        self.right = None\n",
    "\n",
    "# insertion\n",
    "def insert(root, val):\n",
    "    if root is None:\n",
    "        return Node(val)\n",
    "    if val < root.val:\n",
    "        root.left = insert(root.left, val)\n",
    "    else:\n",
    "        root.right = insert(root.right, val)\n",
    "    return root\n",
    "\n",
    "# traversal\n",
    "def inorder(root):\n",
    "    if root:\n",
    "        inorder(root.left)\n",
    "        print(root.val)\n",
    "        inorder(root.right)\n",
    "    \n",
    "def preorder(root):\n",
    "    if root:\n",
    "        print(root.val)\n",
    "        preorder(root.left)\n",
    "        preorder(root.right)\n",
    "\n",
    "def postorder(root):\n",
    "    if root:\n",
    "        postorder(root.left)\n",
    "        postorder(root.right)\n",
    "        print(root.val)\n",
    "\n",
    "def print_tree(node, level = 0):\n",
    "    if node is not None:\n",
    "        print_tree(node.right, level +1)\n",
    "        print(' ' * level, node.val)\n",
    "        print_tree(node.left, level +1)\n",
    "\n",
    "val = [20, 10, 30, 40, 25, 18, 5]\n",
    "root = None\n",
    "for v in val:\n",
    "    root = insert(root, v)\n",
    "print_tree(root)\n",
    "print(f'\\n Inorder traversal \\n')\n",
    "inorder(root)\n",
    "print(f'\\n Preorder traversal \\n')\n",
    "preorder(root)\n",
    "print(f'\\n Postorder traversal \\n')\n",
    "postorder(root)"
   ]
  },
  {
   "cell_type": "code",
   "execution_count": 20,
   "id": "58048095",
   "metadata": {},
   "outputs": [
    {
     "name": "stdout",
     "output_type": "stream",
     "text": [
      "4\n"
     ]
    }
   ],
   "source": [
    "def count_ln(root):\n",
    "    if not root:\n",
    "        return 0\n",
    "    if not root.left and not root.right:\n",
    "        return 1\n",
    "    return count_ln(root.left) + count_ln(root.right)\n",
    "print(count_ln(root))"
   ]
  }
 ],
 "metadata": {
  "kernelspec": {
   "display_name": ".venv-1 (3.12.3)",
   "language": "python",
   "name": "python3"
  },
  "language_info": {
   "codemirror_mode": {
    "name": "ipython",
    "version": 3
   },
   "file_extension": ".py",
   "mimetype": "text/x-python",
   "name": "python",
   "nbconvert_exporter": "python",
   "pygments_lexer": "ipython3",
   "version": "3.12.3"
  }
 },
 "nbformat": 4,
 "nbformat_minor": 5
}
