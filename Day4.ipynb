{
 "cells": [
  {
   "cell_type": "code",
   "execution_count": 16,
   "id": "754be17c",
   "metadata": {},
   "outputs": [
    {
     "name": "stdout",
     "output_type": "stream",
     "text": [
      "['False', 67.0]\n"
     ]
    }
   ],
   "source": [
    "#slice\n",
    "#slice can't use in set{}\n",
    "#list - collection of data\n",
    "#it is ordered , mutable , heterogenous\n",
    "#positive indexing - it start with 0\n",
    "#negative indexing - it is a reverse order and start\n",
    "list1=[\"chachu\",\"vichu\",24,89,67.00,\"True\",\"False\"]\n",
    "print(list1[:2:-2]) #[start:stop:step]"
   ]
  },
  {
   "cell_type": "code",
   "execution_count": 17,
   "id": "71493819",
   "metadata": {},
   "outputs": [],
   "source": [
    "#List methods\n",
    "#append,extend,copy,insert,pop,remove,reverse,sort,inverse,len,count\n",
    "#append - add the value at the end of the list\n",
    "#insert - you can add the element at any position\n",
    "#extent - it can ensure to combine the list\n",
    "#pop - remove the value based on index\n",
    "#remove - you can mention the element\n",
    "#copy - you can copy the list\n",
    "#reverse - it will reverse the list of element \n",
    "#sort - it will arrange the element by asec , desc\n",
    "#clear - clear the data  "
   ]
  },
  {
   "cell_type": "code",
   "execution_count": 18,
   "id": "af701f08",
   "metadata": {},
   "outputs": [
    {
     "name": "stdout",
     "output_type": "stream",
     "text": [
      "['chachu', 'vichu', 24, 89, 67.0, 'True', 'False', 'hi']\n"
     ]
    }
   ],
   "source": [
    "#append\n",
    "list1=[\"chachu\",\"vichu\",24,89,67.00,\"True\",\"False\"]\n",
    "list1.append(\"hi\")\n",
    "print(list1)\n"
   ]
  },
  {
   "cell_type": "code",
   "execution_count": 19,
   "id": "5b25b098",
   "metadata": {},
   "outputs": [
    {
     "name": "stdout",
     "output_type": "stream",
     "text": [
      "['chachu', 'vichu', 'fadal', 24, 89, 67.0, 'True', 'False']\n"
     ]
    }
   ],
   "source": [
    "#insert\n",
    "list1=[\"chachu\",\"vichu\",24,89,67.00,\"True\",\"False\"]\n",
    "list1.insert(2,\"fadal\") #add the position and coma(,) a element\n",
    "print(list1)"
   ]
  },
  {
   "cell_type": "code",
   "execution_count": 20,
   "id": "4dbf277f",
   "metadata": {},
   "outputs": [
    {
     "name": "stdout",
     "output_type": "stream",
     "text": [
      "['isha', 'nimmy', 1, 22, 43, 'chachu', 'vichu', 24, 89, 67.0, 'True', 'False']\n"
     ]
    }
   ],
   "source": [
    "#extend\n",
    "list1=[\"chachu\",\"vichu\",24,89,67.00,\"True\",\"False\"]\n",
    "list2=[\"isha\",\"nimmy\",1,22,43]\n",
    "list2.extend(list1)\n",
    "print(list2)"
   ]
  },
  {
   "cell_type": "code",
   "execution_count": 21,
   "id": "7c6eabe5",
   "metadata": {},
   "outputs": [
    {
     "name": "stdout",
     "output_type": "stream",
     "text": [
      "['nimmy', 1, 22, 43]\n"
     ]
    }
   ],
   "source": [
    "#remove\n",
    "list1=[\"chachu\",\"vichu\",24,89,67.00,\"True\",\"False\"]\n",
    "list2=[\"isha\",\"nimmy\",1,22,43]\n",
    "list2.remove(\"isha\") #remove any element\n",
    "print(list2)"
   ]
  },
  {
   "cell_type": "code",
   "execution_count": 22,
   "id": "25df3dc6",
   "metadata": {},
   "outputs": [
    {
     "name": "stdout",
     "output_type": "stream",
     "text": [
      "['chachu', 'vichu', 89, 67.0, 'True', 'False']\n"
     ]
    }
   ],
   "source": [
    "#pop\n",
    "list1=[\"chachu\",\"vichu\",24,89,67.00,\"True\",\"False\"]\n",
    "list1.pop(2)   #remove the last element of the list\n",
    "print(list1)\n"
   ]
  },
  {
   "cell_type": "code",
   "execution_count": 23,
   "id": "16233abe",
   "metadata": {},
   "outputs": [
    {
     "name": "stdout",
     "output_type": "stream",
     "text": [
      "['chachu', 'vichu', 24, 89, 67.0, 'True', 'False']\n"
     ]
    }
   ],
   "source": [
    "#copy\n",
    "list1=[\"chachu\",\"vichu\",24,89,67.00,\"True\",\"False\"]\n",
    "list2=[\"isha\",\"nimmy\",1,22,43]\n",
    "list3=list1.copy() #copy the list\n",
    "print(list3)\n"
   ]
  },
  {
   "cell_type": "code",
   "execution_count": 24,
   "id": "f6160248",
   "metadata": {},
   "outputs": [
    {
     "name": "stdout",
     "output_type": "stream",
     "text": [
      "['False', 'True', 67.0, 89, 24, 'vichu', 'chachu']\n"
     ]
    }
   ],
   "source": [
    "#REVERSE\n",
    "list1=[\"chachu\",\"vichu\",24,89,67.00,\"True\",\"False\"]\n",
    "list1.reverse()\n",
    "print(list1)\n",
    "\n",
    "\n",
    "\n"
   ]
  },
  {
   "cell_type": "code",
   "execution_count": 25,
   "id": "2224a03d",
   "metadata": {},
   "outputs": [],
   "source": [
    "#SORT\n",
    "list1=[\"chachu\",\"vichu\",24,89,67.00,\"True\",\"False\"]\n",
    "\n",
    "list2=[\"isha\",\"nimmy\",1,22,43]"
   ]
  },
  {
   "cell_type": "code",
   "execution_count": 26,
   "id": "89c739b6",
   "metadata": {},
   "outputs": [
    {
     "name": "stdout",
     "output_type": "stream",
     "text": [
      "['1', 'isha']\n"
     ]
    }
   ],
   "source": [
    "list1=[]\n",
    "list = int(input(\"how many number you want to add\"))\n",
    "\n",
    "for i in range(list):\n",
    "    element = input(\"enter the element{1+i}:\")\n",
    "    list1.append(element)\n",
    "\n",
    "print(list1)"
   ]
  },
  {
   "cell_type": "code",
   "execution_count": 27,
   "id": "32693ba4",
   "metadata": {},
   "outputs": [
    {
     "name": "stdout",
     "output_type": "stream",
     "text": [
      "('nimmy', 1, 22, 43)\n",
      "1\n"
     ]
    }
   ],
   "source": [
    "#TUPLE - (),ordered,immutable\n",
    "# in list we use [], but in tuple we use()\n",
    "\n",
    "tuple1 = (\"isha\",\"nimmy\",1,22,43)\n",
    "print(tuple1[1:5])\n",
    "\n",
    "#count,index\n",
    "tuple1.count(43)\n",
    "print(tuple1.count(43))"
   ]
  },
  {
   "cell_type": "code",
   "execution_count": 28,
   "id": "e4d9ec9e",
   "metadata": {},
   "outputs": [],
   "source": [
    "#if you need to add an element to tuple you need to covert tuple to list\n"
   ]
  },
  {
   "cell_type": "code",
   "execution_count": 29,
   "id": "88a20f86",
   "metadata": {},
   "outputs": [
    {
     "name": "stdout",
     "output_type": "stream",
     "text": [
      "{1, 2, 3, 4, 5}\n"
     ]
    }
   ],
   "source": [
    "#set - {}, it does't allow duplicates\n",
    "#we couldn't perform the slicing\n",
    "#There is no indexing\n",
    "#unorder\n",
    "#set methods - add,updats,discard,remove,pop\n",
    "#if you use update methode use [] inside the ()\n",
    "#in pop methode remove 1st element in the {}\n",
    "#operations - union,interesection,differnce\n",
    "\n",
    "\n",
    "set1={1,2,3,4,5,5,5}\n",
    "set2={2,4,6,8}\n",
    "\n",
    "result = set1.union({2,4,6,8})\n",
    "print(set1)\n",
    "\n"
   ]
  },
  {
   "cell_type": "code",
   "execution_count": 30,
   "id": "209d62b0",
   "metadata": {},
   "outputs": [
    {
     "name": "stdout",
     "output_type": "stream",
     "text": [
      "\n"
     ]
    }
   ],
   "source": [
    "#difference\n",
    "print()\n"
   ]
  },
  {
   "cell_type": "code",
   "execution_count": 31,
   "id": "6217de25",
   "metadata": {},
   "outputs": [
    {
     "data": {
      "text/plain": [
       "8"
      ]
     },
     "execution_count": 31,
     "metadata": {},
     "output_type": "execute_result"
    }
   ],
   "source": [
    "#the unique value\n",
    "def unique_item(text):\n",
    "    word=text.lower().split()\n",
    "    unique_item= set (word)\n",
    "    return len(unique_item)\n",
    "unique_item(\"meera is a good girl but sometimes meera is a bad girl \")"
   ]
  },
  {
   "cell_type": "code",
   "execution_count": null,
   "id": "1c894fcc",
   "metadata": {},
   "outputs": [],
   "source": []
  },
  {
   "cell_type": "code",
   "execution_count": 32,
   "id": "843c2a2e",
   "metadata": {},
   "outputs": [
    {
     "name": "stdout",
     "output_type": "stream",
     "text": [
      "[1, 2, 3, 4, 5, 6, 7, 8]\n"
     ]
    }
   ],
   "source": [
    "#remove duplicates from the list\n",
    "def remove_duplicates(nums):\n",
    "    result=[]\n",
    "    for i in nums:\n",
    "        if i not in result:\n",
    "            result.append(i)\n",
    "    return result\n",
    "list1=[1,1,1,2,3,4,5,6,6,7,8,8]\n",
    "print(remove_duplicates(list1))\n",
    "\n",
    "\n"
   ]
  },
  {
   "cell_type": "code",
   "execution_count": 33,
   "id": "cd82f591",
   "metadata": {},
   "outputs": [
    {
     "name": "stdout",
     "output_type": "stream",
     "text": [
      "meera\n",
      "sara\n",
      "fadal\n"
     ]
    }
   ],
   "source": [
    "#print word longer than 3letter from list\n",
    "list1=[\"leo\",\"meera\",\"ram\",\"sara\",\"fadal\"]\n",
    "for i in list1:\n",
    "    if len(i)>3:\n",
    "        print(i)\n",
    "\n"
   ]
  },
  {
   "cell_type": "code",
   "execution_count": 34,
   "id": "e5057da0",
   "metadata": {},
   "outputs": [
    {
     "name": "stdout",
     "output_type": "stream",
     "text": [
      "[25, 10, 'abhi', 72.0]\n"
     ]
    }
   ],
   "source": [
    "L1=[25,10,\"abhi\",72.0]\n",
    "print(L1[::])"
   ]
  },
  {
   "cell_type": "code",
   "execution_count": null,
   "id": "13292741",
   "metadata": {},
   "outputs": [],
   "source": []
  }
 ],
 "metadata": {
  "kernelspec": {
   "display_name": "Python 3",
   "language": "python",
   "name": "python3"
  },
  "language_info": {
   "codemirror_mode": {
    "name": "ipython",
    "version": 3
   },
   "file_extension": ".py",
   "mimetype": "text/x-python",
   "name": "python",
   "nbconvert_exporter": "python",
   "pygments_lexer": "ipython3",
   "version": "3.13.2"
  }
 },
 "nbformat": 4,
 "nbformat_minor": 5
}
