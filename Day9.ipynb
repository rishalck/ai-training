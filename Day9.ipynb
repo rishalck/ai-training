{
 "cells": [
  {
   "cell_type": "code",
   "execution_count": 1,
   "id": "212f0adc",
   "metadata": {},
   "outputs": [],
   "source": [
    "#Encapsulation\n",
    "    # It means binding the data into a single unit.\n",
    "    # methods - setter and getter\n",
    "    # Access modifiers - public,private,protected\n",
    "     "
   ]
  },
  {
   "cell_type": "code",
   "execution_count": 2,
   "id": "ef97a858",
   "metadata": {},
   "outputs": [
    {
     "name": "stdout",
     "output_type": "stream",
     "text": [
      "The Name: fadal, Age is : 21\n",
      "The Name: isha, Age is: 20\n",
      "The Name: isha, Age is: 21\n"
     ]
    }
   ],
   "source": [
    "class person:\n",
    "    def __init__(self, name, age):\n",
    "        self.name = name\n",
    "        self.age = age\n",
    "\n",
    "    def display(self, name, age):\n",
    "        print(f\"The Name: {name}, Age is : {age}\")\n",
    "\n",
    "    def getter(self):\n",
    "        print(f\"The Name: {self.name}, Age is: {self.age}\")\n",
    "\n",
    "    def setter(self, age):\n",
    "        self.age = age\n",
    "\n",
    "# Now using your code:\n",
    "P1 = person(\"isha\", 20)\n",
    "P1.display(\"fadal\", 21)   # Displays the passed values, not the object’s values\n",
    "P1.getter()               # Shows current values in the object\n",
    "P1.setter(21)             # Updates the age in the object\n",
    "P1.getter()               # Shows updated values\n",
    " \n"
   ]
  },
  {
   "cell_type": "code",
   "execution_count": 3,
   "id": "afb8a57a",
   "metadata": {},
   "outputs": [],
   "source": [
    "#create one class ATM use def method\n",
    "#pass only one pin(pin should be in private)\n",
    "#setter method -\n",
    "#getter method -"
   ]
  },
  {
   "cell_type": "code",
   "execution_count": 4,
   "id": "63c3fb12",
   "metadata": {},
   "outputs": [
    {
     "data": {
      "text/plain": [
       "1234"
      ]
     },
     "execution_count": 4,
     "metadata": {},
     "output_type": "execute_result"
    }
   ],
   "source": [
    "class ATM():\n",
    "    def __init__(self,pin):\n",
    "        self.__pin= pin\n",
    "\n",
    "    def setter(self,new_pin):\n",
    "        if(len(str(new_pin))==4):\n",
    "            self.__pin = new_pin\n",
    "        else:\n",
    "            print(\"invalid pin\")\n",
    "    def getter(self):\n",
    "        return self.__pin\n",
    "    \n",
    "A1 = ATM(1234)\n",
    "A1.getter()\n",
    "            \n"
   ]
  },
  {
   "cell_type": "code",
   "execution_count": 5,
   "id": "7f3b1cde",
   "metadata": {},
   "outputs": [
    {
     "name": "stdout",
     "output_type": "stream",
     "text": [
      "Bird is flying\n",
      "fight is flies\n",
      "superman fly using superpower\n"
     ]
    }
   ],
   "source": [
    "#polymorphism - we can perform the task in may ways\n",
    "class Bird:\n",
    "    def fly(self):\n",
    "        print(\"Bird is flying\")\n",
    "\n",
    "class Flight():\n",
    "    def fly(self):\n",
    "        print(\"fight is flies\")\n",
    "\n",
    "class superman:\n",
    "    def fly(self):\n",
    "        print(\"superman fly using superpower\")\n",
    "\n",
    "B1 = [Bird(),Flight(),superman()]\n",
    "for i in B1:\n",
    "    i.fly()"
   ]
  },
  {
   "cell_type": "code",
   "execution_count": 6,
   "id": "20c2bc1d",
   "metadata": {},
   "outputs": [
    {
     "name": "stdout",
     "output_type": "stream",
     "text": [
      "car used to travel\n",
      "bike is used to ride\n",
      "Fight drive in sky\n"
     ]
    }
   ],
   "source": [
    "#use vahicle\n",
    "#method driving\n",
    "\n",
    "class Car():\n",
    "    def drive(self):\n",
    "        print(\"car used to travel\")\n",
    "\n",
    "class Bike():\n",
    "    def drive(self):\n",
    "        print(\"bike is used to ride\")\n",
    "    \n",
    "class Flight():\n",
    "    def drive(self):\n",
    "        print(\"Fight drive in sky\")\n",
    "\n",
    "B1 = [Car(),Bike(),Flight()]\n",
    "for i in B1:\n",
    "    i.drive()"
   ]
  },
  {
   "cell_type": "code",
   "execution_count": 7,
   "id": "619abfc8",
   "metadata": {},
   "outputs": [
    {
     "name": "stdout",
     "output_type": "stream",
     "text": [
      "wash the fruits\n",
      "cut the fruits using knife\n",
      "grind the fruits\n",
      "add 2 spoon of suger\n",
      "serve the juice\n"
     ]
    }
   ],
   "source": [
    "#Abstraction\n",
    "class juicemaker():\n",
    "    def make_juice(self):\n",
    "        self.__wash()\n",
    "        self.__cutting_the_fruits()\n",
    "        self.__blend()\n",
    "        self.__adding_suger()\n",
    "        self.__serve() #private - adh thazhe mention cheyan pattulla\n",
    "    def __wash(self):\n",
    "        print(\"wash the fruits\")\n",
    "    def __cutting_the_fruits(self):\n",
    "        print(\"cut the fruits using knife\")\n",
    "    def __blend(self):\n",
    "        print(\"grind the fruits\")\n",
    "    def __adding_suger(self):\n",
    "        print(\"add 2 spoon of suger\")\n",
    "    def __serve(self):\n",
    "        print(\"serve the juice\")\n",
    "\n",
    "jm = juicemaker()\n",
    "jm.make_juice()\n"
   ]
  },
  {
   "cell_type": "code",
   "execution_count": null,
   "id": "449f4782",
   "metadata": {},
   "outputs": [],
   "source": []
  }
 ],
 "metadata": {
  "kernelspec": {
   "display_name": "Python 3",
   "language": "python",
   "name": "python3"
  },
  "language_info": {
   "codemirror_mode": {
    "name": "ipython",
    "version": 3
   },
   "file_extension": ".py",
   "mimetype": "text/x-python",
   "name": "python",
   "nbconvert_exporter": "python",
   "pygments_lexer": "ipython3",
   "version": "3.13.2"
  }
 },
 "nbformat": 4,
 "nbformat_minor": 5
}
