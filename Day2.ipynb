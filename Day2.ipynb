{
 "cells": [
  {
   "cell_type": "code",
   "execution_count": 1,
   "id": "f2c81566",
   "metadata": {},
   "outputs": [
    {
     "name": "stdout",
     "output_type": "stream",
     "text": [
      "1000.0\n"
     ]
    }
   ],
   "source": [
    "#operators\n",
    "#arithmatic operator\n",
    "\n",
    "principle_amount=int(input(\"enter the amount\"))\n",
    "rate_of_interest=float(input(\"enter the rate\"))\n",
    "year=int(input(\"enter the year\"))\n",
    "sample_interest=(principle_amount*rate_of_interest*year)/100\n",
    "print(sample_interest)\n"
   ]
  },
  {
   "cell_type": "markdown",
   "id": "3b245cf7",
   "metadata": {},
   "source": [
    "#operators\n",
    "   #arithmatic operator -- mark\n",
    "   #bitwise operator\n",
    "   #comparison operator\n",
    "   #logical operator\n",
    "   #identity operator\n",
    "   #membership operator\n",
    "   #assignment operator"
   ]
  },
  {
   "cell_type": "code",
   "execution_count": 8,
   "id": "7dc0ba54",
   "metadata": {},
   "outputs": [
    {
     "name": "stdout",
     "output_type": "stream",
     "text": [
      "no\n"
     ]
    }
   ],
   "source": [
    "#relation operator\n",
    "\n",
    "user_name=input(\"enter the un\")\n",
    "if user_name==\"iishh.a\":\n",
    "    print(\"yes\")\n",
    "else:\n",
    "    print(\"no\")\n"
   ]
  },
  {
   "cell_type": "code",
   "execution_count": 10,
   "id": "475c52d8",
   "metadata": {},
   "outputs": [
    {
     "name": "stdout",
     "output_type": "stream",
     "text": [
      "you are eligible\n"
     ]
    }
   ],
   "source": [
    "#Logical operator\n",
    "   #must be the age is above 21\n",
    "   #must the salary above 5000\n",
    "\n",
    "age = int(input(\"enter the age\"))\n",
    "salary=int(input(\"enter the salary\"))\n",
    "\n",
    "if age > 21 and salary > 5000:\n",
    "    print(\"you are eligible\")\n",
    "else:\n",
    "    print(\"not eligble\")"
   ]
  },
  {
   "cell_type": "code",
   "execution_count": null,
   "id": "3c2f6ac5",
   "metadata": {},
   "outputs": [
    {
     "name": "stdout",
     "output_type": "stream",
     "text": [
      "all lights are on\n"
     ]
    }
   ],
   "source": [
    "#BITWISE OPERATOR\n",
    "#sensor1 and sensor2\n",
    "\n",
    "sensor_1=int(input(\"enter the number\"))\n",
    "sensor_2=int(input(\"enter the number\"))\n",
    "if sensor_1 and sensor_2:\n",
    "    print(\"all lights are on\")\n",
    "elif sensor_1|sensor_2:\n",
    "    print(\"partially on\")\n",
    "else:\n",
    "    print(\"all lights are off\")\n",
    "\n",
    " "
   ]
  },
  {
   "cell_type": "code",
   "execution_count": 13,
   "id": "b62919ee",
   "metadata": {},
   "outputs": [
    {
     "name": "stdout",
     "output_type": "stream",
     "text": [
      "same\n"
     ]
    }
   ],
   "source": [
    "#IDENTITY OPERATOR\n",
    "\n",
    "id1=1234\n",
    "id2=1234\n",
    "if id1 is not id2:\n",
    "    print(\"same\")\n",
    "else:\n",
    "    print(\"different\")"
   ]
  },
  {
   "cell_type": "code",
   "execution_count": 15,
   "id": "febe3044",
   "metadata": {},
   "outputs": [
    {
     "name": "stdout",
     "output_type": "stream",
     "text": [
      "available\n"
     ]
    }
   ],
   "source": [
    "#MEMBERSHIP OPERATOR\n",
    "\n",
    "cart=[\"mobile\",\"laptop\"]\n",
    "\n",
    "if \"mobile\" in cart:\n",
    "    print(\"available\")\n",
    "else:\n",
    "    print(\"not available\")"
   ]
  },
  {
   "cell_type": "code",
   "execution_count": null,
   "id": "4a95e239",
   "metadata": {},
   "outputs": [],
   "source": []
  }
 ],
 "metadata": {
  "kernelspec": {
   "display_name": "Python 3",
   "language": "python",
   "name": "python3"
  },
  "language_info": {
   "codemirror_mode": {
    "name": "ipython",
    "version": 3
   },
   "file_extension": ".py",
   "mimetype": "text/x-python",
   "name": "python",
   "nbconvert_exporter": "python",
   "pygments_lexer": "ipython3",
   "version": "3.13.2"
  }
 },
 "nbformat": 4,
 "nbformat_minor": 5
}
