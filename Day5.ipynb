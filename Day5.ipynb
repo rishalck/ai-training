{
 "cells": [
  {
   "cell_type": "code",
   "execution_count": 1,
   "id": "8d7d8af9",
   "metadata": {},
   "outputs": [
    {
     "name": "stdout",
     "output_type": "stream",
     "text": [
      "{'name': 'isha', 'dept': 'ai'}\n"
     ]
    }
   ],
   "source": [
    "#Dictionary\n",
    "\n",
    "dict1={\"name\":\"isha\",\"dept\":\"ai\"}\n",
    "print(dict1)\n",
    "dict2={} #empty dictionary"
   ]
  },
  {
   "cell_type": "code",
   "execution_count": 2,
   "id": "719a3df7",
   "metadata": {},
   "outputs": [
    {
     "name": "stdout",
     "output_type": "stream",
     "text": [
      "{'name': 'isha', 'age': 19}\n"
     ]
    }
   ],
   "source": [
    "#use \"dict\" keyword\n",
    "\n",
    "Dict3 = dict(name=\"isha\", age=19)\n",
    "print(Dict3)"
   ]
  },
  {
   "cell_type": "code",
   "execution_count": 3,
   "id": "b9b9cf48",
   "metadata": {},
   "outputs": [
    {
     "name": "stdout",
     "output_type": "stream",
     "text": [
      "{'a': 1, 'b': 2}\n"
     ]
    }
   ],
   "source": [
    "#from a list of tuples\n",
    "dict4 = dict([(\"a\",1),(\"b\",2)])\n",
    "print(dict4)"
   ]
  },
  {
   "cell_type": "code",
   "execution_count": 4,
   "id": "705e740a",
   "metadata": {},
   "outputs": [
    {
     "name": "stdout",
     "output_type": "stream",
     "text": [
      "kerala\n",
      "156\n"
     ]
    }
   ],
   "source": [
    "#important dictionary methods\n",
    "#get , setdefult,uodate,item,keys,values\n",
    "#1.get method\n",
    "#we can perform safe access of the value\n",
    "\n",
    "dict1={\"name\":\"isha\",\"dept\":\"ai\"}\n",
    "print(dict1.get(\"place\",\"kerala\"))\n",
    "print(dict1.get(\"height\",156))#it is for get method "
   ]
  },
  {
   "cell_type": "code",
   "execution_count": 5,
   "id": "5515af72",
   "metadata": {},
   "outputs": [
    {
     "name": "stdout",
     "output_type": "stream",
     "text": [
      "{'name': 'isha', 'dept': 'ai', 'email': 'isha@shanmugha.edu.in'}\n"
     ]
    }
   ],
   "source": [
    "#setdefault method\n",
    "dict1={\"name\":\"isha\",\"dept\":\"ai\"}\n",
    "dict1.setdefault(\"email\",\"isha@shanmugha.edu.in\")\n",
    "print(dict1) #once u use setdefault method ,set the value\n",
    "#when you print that all item are visible"
   ]
  },
  {
   "cell_type": "code",
   "execution_count": 6,
   "id": "dabc666a",
   "metadata": {},
   "outputs": [
    {
     "name": "stdout",
     "output_type": "stream",
     "text": [
      "{'name': 'isha', 'dept': 'ai', 'place': 'kerala'}\n",
      "{'name': 'fadal', 'dept': 'ai', 'place': 'kerala'}\n",
      "{'name': 'Sara', 'dept': 'ai', 'place': 'kerala'}\n"
     ]
    }
   ],
   "source": [
    "#update method\n",
    "dict1={\"name\":\"isha\",\"dept\":\"ai\"}\n",
    "dict1.update({\"place\":\"kerala\"})\n",
    "print(dict1)\n",
    "dict1[\"name\"]=\"fadal\"\n",
    "print(dict1)\n",
    "dict1[\"name\"]=\"Sara\"\n",
    "print(dict1)"
   ]
  },
  {
   "cell_type": "code",
   "execution_count": 7,
   "id": "2c78bb36",
   "metadata": {},
   "outputs": [
    {
     "name": "stdout",
     "output_type": "stream",
     "text": [
      "dict_keys(['name', 'dept'])\n",
      "dict_values(['isha', 'ai'])\n",
      "dict_items([('name', 'isha'), ('dept', 'ai')])\n"
     ]
    }
   ],
   "source": [
    "\n",
    "dict1={\"name\":\"isha\",\"dept\":\"ai\"}\n",
    "print(dict1.keys())\n",
    "print(dict1.values())\n",
    "print(dict1.items())"
   ]
  },
  {
   "cell_type": "code",
   "execution_count": 8,
   "id": "93b51a5c",
   "metadata": {},
   "outputs": [
    {
     "name": "stdout",
     "output_type": "stream",
     "text": [
      "{'dept': 'ai'}\n"
     ]
    }
   ],
   "source": [
    "#Delete method - del,pop\n",
    "dict1={\"name\":\"isha\",\"dept\":\"ai\"}\n",
    "del dict1[\"name\"]\n",
    "print(dict1)"
   ]
  },
  {
   "cell_type": "code",
   "execution_count": 9,
   "id": "97794b3c",
   "metadata": {},
   "outputs": [
    {
     "data": {
      "text/plain": [
       "'none'"
      ]
     },
     "execution_count": 9,
     "metadata": {},
     "output_type": "execute_result"
    }
   ],
   "source": [
    "#pop\n",
    "dict1={\"name\":\"isha\",\"dept\":\"ai\"}\n",
    "dict1.pop(\"height\",\"none\")\n"
   ]
  },
  {
   "cell_type": "code",
   "execution_count": null,
   "id": "f26192c4",
   "metadata": {},
   "outputs": [],
   "source": []
  },
  {
   "cell_type": "code",
   "execution_count": 10,
   "id": "eb54f6fa",
   "metadata": {},
   "outputs": [
    {
     "name": "stdout",
     "output_type": "stream",
     "text": [
      "{'banana': 2, 'apple': 2, 'kiwi': 1}\n"
     ]
    }
   ],
   "source": [
    "#freqyency dictionary from text\n",
    "text = \"banana apple banana apple kiwi\" \n",
    "dict1={}\n",
    "for i in text.split():\n",
    "    dict1[i]=dict1.get(i,0)+1\n",
    "print(dict1)"
   ]
  },
  {
   "cell_type": "code",
   "execution_count": 11,
   "id": "fb3ec936",
   "metadata": {},
   "outputs": [
    {
     "name": "stdout",
     "output_type": "stream",
     "text": [
      "abc\n"
     ]
    }
   ],
   "source": [
    "dict1 = {\n",
    "    \"class1\":{\n",
    "        \"a\":{\"name\":\"abc\",\"age\":25},\n",
    "        \"b\":{\"name\":\"xyz\",\"age\":23}\n",
    "    }\n",
    "}\n",
    "print(dict1[\"class1\"][\"a\"][\"name\"])"
   ]
  },
  {
   "cell_type": "code",
   "execution_count": 13,
   "id": "7dbf0a15",
   "metadata": {},
   "outputs": [],
   "source": [
    "users = {\n",
    "    \"aaa\":101,\n",
    "    \"aab\":102,\n",
    "    \"aac\":103}\n",
    "def my_func(users , userid):\n",
    "    print(users)"
   ]
  }
 ],
 "metadata": {
  "kernelspec": {
   "display_name": "Python 3",
   "language": "python",
   "name": "python3"
  },
  "language_info": {
   "codemirror_mode": {
    "name": "ipython",
    "version": 3
   },
   "file_extension": ".py",
   "mimetype": "text/x-python",
   "name": "python",
   "nbconvert_exporter": "python",
   "pygments_lexer": "ipython3",
   "version": "3.13.2"
  }
 },
 "nbformat": 4,
 "nbformat_minor": 5
}
