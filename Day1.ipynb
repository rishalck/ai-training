{
 "cells": [
  {
   "cell_type": "code",
   "execution_count": null,
   "id": "a824a3bf",
   "metadata": {},
   "outputs": [],
   "source": [
    "a=67\n",
    "b=90\n",
    "sum = a+b\n",
    "print(sum)\n",
    "a=float(4)\n",
    "print(a)\n"
   ]
  },
  {
   "cell_type": "code",
   "execution_count": 8,
   "id": "23f14544",
   "metadata": {},
   "outputs": [
    {
     "name": "stdout",
     "output_type": "stream",
     "text": [
      "6\n"
     ]
    }
   ],
   "source": [
    "a=int(6.0)\n",
    "print(a)"
   ]
  },
  {
   "cell_type": "code",
   "execution_count": 9,
   "id": "8ad9f766",
   "metadata": {},
   "outputs": [
    {
     "name": "stdout",
     "output_type": "stream",
     "text": [
      "not available\n"
     ]
    }
   ],
   "source": [
    "cart=[\"shirt\",\"jeans\",\"shoe\",\"pant\",\"coat\"]\n",
    "\n",
    "things=input(\"enter the iteam\")\n",
    "\n",
    "if things in cart:\n",
    "    print(\"yes available\")\n",
    "else:\n",
    "    print(\"not available\")\n",
    "\n"
   ]
  }
 ],
 "metadata": {
  "kernelspec": {
   "display_name": "Python 3",
   "language": "python",
   "name": "python3"
  },
  "language_info": {
   "codemirror_mode": {
    "name": "ipython",
    "version": 3
   },
   "file_extension": ".py",
   "mimetype": "text/x-python",
   "name": "python",
   "nbconvert_exporter": "python",
   "pygments_lexer": "ipython3",
   "version": "3.13.2"
  }
 },
 "nbformat": 4,
 "nbformat_minor": 5
}
