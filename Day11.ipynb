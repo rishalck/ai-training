{
 "cells": [
  {
   "cell_type": "code",
   "execution_count": 1,
   "id": "b9866915",
   "metadata": {},
   "outputs": [
    {
     "name": "stdout",
     "output_type": "stream",
     "text": [
      "The thread name is Thread 1\n"
     ]
    }
   ],
   "source": [
    "#process - a program in execution\n",
    "#Thread - \n",
    "#smallest unit of execution in an operating system\n",
    "\n",
    "#two module of multithreading used to handil thread in python \n",
    "# thread - module //used for low --line threading\n",
    "# threading module//used for high lenet threading\n",
    " \n",
    "from threading import Thread\n",
    "def my_func():\n",
    "    print(f\"The thread name is Thread 1\")\n",
    "t1 = Thread(target = my_func)\n",
    "t1.start()"
   ]
  },
  {
   "cell_type": "code",
   "execution_count": 2,
   "metadata": {},
   "outputs": [
    {
     "name": "stdout",
     "output_type": "stream",
     "text": [
      "hi hi HI\n",
      "hi hi HI\n"
     ]
    }
   ],
   "source": [
    "#\n",
    "from threading import Thread\n",
    "def my_func():\n",
    "    print(f\"The thread name is Thread 1\")\n",
    "def my_func():\n",
    "    print(\"hi hi HI\")\n",
    "t1 = Thread(target = my_func)\n",
    "t2 = Thread(target = my_func)\n",
    "t1.start()\n",
    "t1.join()\n",
    "t2.start()"
   ]
  },
  {
   "cell_type": "code",
   "execution_count": 3,
   "id": "06c66b6d",
   "metadata": {},
   "outputs": [],
   "source": [
    "from threading import Thread\n",
    "def my_func(name):\n",
    "    print(f\"the name is {name}\")\n",
    "    target=my_func,args=(\"godson\",).strat()\n",
    "    target=my_func,args=('razi',).strat"
   ]
  },
  {
   "cell_type": "code",
   "execution_count": 4,
   "id": "2d1005f1",
   "metadata": {},
   "outputs": [],
   "source": [
    "import threading , time\n",
    "def download():\n",
    "    print(\"download....\")\n",
    "    time.sleep(1)\n",
    "    print(\"done\") \n",
    "    threading.tread(target=download).start()\n",
    "   \n"
   ]
  },
  {
   "cell_type": "code",
   "execution_count": 5,
   "id": "4aae22ce",
   "metadata": {},
   "outputs": [],
   "source": [
    "from threading import Thread\n",
    "import threading \n",
    "def show_name():\n",
    "    print(\"running in\".threading.current_tread().name)\n",
    "    threading.Thread(target=show_name).start()"
   ]
  },
  {
   "cell_type": "code",
   "execution_count": 6,
   "id": "47655547",
   "metadata": {},
   "outputs": [
    {
     "name": "stderr",
     "output_type": "stream",
     "text": [
      "Exception in thread Thread-6 (say_hello):\n",
      "Exception in thread Thread-7 (say_hello):\n",
      "Exception in thread Thread-8 (say_hello):\n",
      "Exception in thread Thread-9 (say_hello):\n",
      "Exception in thread Thread-10 (say_hello):\n"
     ]
    },
    {
     "name": "stderr",
     "output_type": "stream",
     "text": [
      "Traceback (most recent call last):\n",
      "  File \u001b[35m\"c:\\Users\\ishat\\AppData\\Local\\Programs\\Python\\Python313\\Lib\\threading.py\"\u001b[0m, line \u001b[35m1041\u001b[0m, in \u001b[35m_bootstrap_inner\u001b[0m\n",
      "    \u001b[31mself.run\u001b[0m\u001b[1;31m()\u001b[0m\n",
      "    \u001b[31m~~~~~~~~\u001b[0m\u001b[1;31m^^\u001b[0m\n",
      "  File \u001b[35m\"C:\\Users\\ishat\\AppData\\Roaming\\Python\\Python313\\site-packages\\ipykernel\\ipkernel.py\"\u001b[0m, line \u001b[35m766\u001b[0m, in \u001b[35mrun_closure\u001b[0m\n",
      "    \u001b[31m_threading_Thread_run\u001b[0m\u001b[1;31m(self)\u001b[0m\n",
      "    \u001b[31m~~~~~~~~~~~~~~~~~~~~~\u001b[0m\u001b[1;31m^^^^^^\u001b[0m\n",
      "  File \u001b[35m\"c:\\Users\\ishat\\AppData\\Local\\Programs\\Python\\Python313\\Lib\\threading.py\"\u001b[0m, line \u001b[35m992\u001b[0m, in \u001b[35mrun\u001b[0m\n",
      "    \u001b[31mself._target\u001b[0m\u001b[1;31m(*self._args, **self._kwargs)\u001b[0m\n",
      "    \u001b[31m~~~~~~~~~~~~\u001b[0m\u001b[1;31m^^^^^^^^^^^^^^^^^^^^^^^^^^^^^\u001b[0m\n",
      "\u001b[1;35mTypeError\u001b[0m: \u001b[35m__main__.say_hello() argument after * must be an iterable, not int\u001b[0m\n",
      "Traceback (most recent call last):\n",
      "  File \u001b[35m\"c:\\Users\\ishat\\AppData\\Local\\Programs\\Python\\Python313\\Lib\\threading.py\"\u001b[0m, line \u001b[35m1041\u001b[0m, in \u001b[35m_bootstrap_inner\u001b[0m\n",
      "    \u001b[31mself.run\u001b[0m\u001b[1;31m()\u001b[0m\n",
      "    \u001b[31m~~~~~~~~\u001b[0m\u001b[1;31m^^\u001b[0m\n",
      "  File \u001b[35m\"C:\\Users\\ishat\\AppData\\Roaming\\Python\\Python313\\site-packages\\ipykernel\\ipkernel.py\"\u001b[0m, line \u001b[35m766\u001b[0m, in \u001b[35mrun_closure\u001b[0m\n",
      "    \u001b[31m_threading_Thread_run\u001b[0m\u001b[1;31m(self)\u001b[0m\n",
      "    \u001b[31m~~~~~~~~~~~~~~~~~~~~~\u001b[0m\u001b[1;31m^^^^^^\u001b[0m\n",
      "  File \u001b[35m\"c:\\Users\\ishat\\AppData\\Local\\Programs\\Python\\Python313\\Lib\\threading.py\"\u001b[0m, line \u001b[35m992\u001b[0m, in \u001b[35mrun\u001b[0m\n",
      "    \u001b[31mself._target\u001b[0m\u001b[1;31m(*self._args, **self._kwargs)\u001b[0m\n",
      "    \u001b[31m~~~~~~~~~~~~\u001b[0m\u001b[1;31m^^^^^^^^^^^^^^^^^^^^^^^^^^^^^\u001b[0m\n",
      "\u001b[1;35mTypeError\u001b[0m: \u001b[35m__main__.say_hello() argument after * must be an iterable, not int\u001b[0m\n",
      "Traceback (most recent call last):\n",
      "  File \u001b[35m\"c:\\Users\\ishat\\AppData\\Local\\Programs\\Python\\Python313\\Lib\\threading.py\"\u001b[0m, line \u001b[35m1041\u001b[0m, in \u001b[35m_bootstrap_inner\u001b[0m\n",
      "    \u001b[31mself.run\u001b[0m\u001b[1;31m()\u001b[0m\n",
      "    \u001b[31m~~~~~~~~\u001b[0m\u001b[1;31m^^\u001b[0m\n",
      "  File \u001b[35m\"C:\\Users\\ishat\\AppData\\Roaming\\Python\\Python313\\site-packages\\ipykernel\\ipkernel.py\"\u001b[0m, line \u001b[35m766\u001b[0m, in \u001b[35mrun_closure\u001b[0m\n",
      "    \u001b[31m_threading_Thread_run\u001b[0m\u001b[1;31m(self)\u001b[0m\n",
      "    \u001b[31m~~~~~~~~~~~~~~~~~~~~~\u001b[0m\u001b[1;31m^^^^^^\u001b[0m\n",
      "  File \u001b[35m\"c:\\Users\\ishat\\AppData\\Local\\Programs\\Python\\Python313\\Lib\\threading.py\"\u001b[0m, line \u001b[35m992\u001b[0m, in \u001b[35mrun\u001b[0m\n",
      "    \u001b[31mself._target\u001b[0m\u001b[1;31m(*self._args, **self._kwargs)\u001b[0m\n",
      "    \u001b[31m~~~~~~~~~~~~\u001b[0m\u001b[1;31m^^^^^^^^^^^^^^^^^^^^^^^^^^^^^\u001b[0m\n",
      "\u001b[1;35mTypeError\u001b[0m: \u001b[35m__main__.say_hello() argument after * must be an iterable, not int\u001b[0m\n",
      "Traceback (most recent call last):\n",
      "  File \u001b[35m\"c:\\Users\\ishat\\AppData\\Local\\Programs\\Python\\Python313\\Lib\\threading.py\"\u001b[0m, line \u001b[35m1041\u001b[0m, in \u001b[35m_bootstrap_inner\u001b[0m\n",
      "    \u001b[31mself.run\u001b[0m\u001b[1;31m()\u001b[0m\n",
      "    \u001b[31m~~~~~~~~\u001b[0m\u001b[1;31m^^\u001b[0m\n",
      "  File \u001b[35m\"C:\\Users\\ishat\\AppData\\Roaming\\Python\\Python313\\site-packages\\ipykernel\\ipkernel.py\"\u001b[0m, line \u001b[35m766\u001b[0m, in \u001b[35mrun_closure\u001b[0m\n",
      "    \u001b[31m_threading_Thread_run\u001b[0m\u001b[1;31m(self)\u001b[0m\n",
      "    \u001b[31m~~~~~~~~~~~~~~~~~~~~~\u001b[0m\u001b[1;31m^^^^^^\u001b[0m\n",
      "  File \u001b[35m\"c:\\Users\\ishat\\AppData\\Local\\Programs\\Python\\Python313\\Lib\\threading.py\"\u001b[0m, line \u001b[35m992\u001b[0m, in \u001b[35mrun\u001b[0m\n",
      "    \u001b[31mself._target\u001b[0m\u001b[1;31m(*self._args, **self._kwargs)\u001b[0m\n",
      "    \u001b[31m~~~~~~~~~~~~\u001b[0m\u001b[1;31m^^^^^^^^^^^^^^^^^^^^^^^^^^^^^\u001b[0m\n",
      "\u001b[1;35mTypeError\u001b[0m: \u001b[35m__main__.say_hello() argument after * must be an iterable, not int\u001b[0m\n",
      "Traceback (most recent call last):\n",
      "  File \u001b[35m\"c:\\Users\\ishat\\AppData\\Local\\Programs\\Python\\Python313\\Lib\\threading.py\"\u001b[0m, line \u001b[35m1041\u001b[0m, in \u001b[35m_bootstrap_inner\u001b[0m\n",
      "    \u001b[31mself.run\u001b[0m\u001b[1;31m()\u001b[0m\n",
      "    \u001b[31m~~~~~~~~\u001b[0m\u001b[1;31m^^\u001b[0m\n",
      "  File \u001b[35m\"C:\\Users\\ishat\\AppData\\Roaming\\Python\\Python313\\site-packages\\ipykernel\\ipkernel.py\"\u001b[0m, line \u001b[35m766\u001b[0m, in \u001b[35mrun_closure\u001b[0m\n",
      "    \u001b[31m_threading_Thread_run\u001b[0m\u001b[1;31m(self)\u001b[0m\n",
      "    \u001b[31m~~~~~~~~~~~~~~~~~~~~~\u001b[0m\u001b[1;31m^^^^^^\u001b[0m\n",
      "  File \u001b[35m\"c:\\Users\\ishat\\AppData\\Local\\Programs\\Python\\Python313\\Lib\\threading.py\"\u001b[0m, line \u001b[35m992\u001b[0m, in \u001b[35mrun\u001b[0m\n",
      "    \u001b[31mself._target\u001b[0m\u001b[1;31m(*self._args, **self._kwargs)\u001b[0m\n",
      "    \u001b[31m~~~~~~~~~~~~\u001b[0m\u001b[1;31m^^^^^^^^^^^^^^^^^^^^^^^^^^^^^\u001b[0m\n",
      "\u001b[1;35mTypeError\u001b[0m: \u001b[35m__main__.say_hello() argument after * must be an iterable, not int\u001b[0m\n"
     ]
    },
    {
     "name": "stdout",
     "output_type": "stream",
     "text": [
      "[]\n"
     ]
    }
   ],
   "source": [
    "import threading \n",
    "messages = []\n",
    "def say_hello(num):\n",
    "    messages.append(f\"hello from thread-{num}\")\n",
    "\n",
    "n=5\n",
    "threads = []\n",
    "for i in range(1, n + 1):\n",
    "    t = threading.Thread(target=say_hello,args=(i))\n",
    "    t.start()\n",
    "    threads.append(t)\n",
    "\n",
    "for t in threads:\n",
    "    t.join()\n",
    "    \n",
    "print(messages)\n",
    "\n",
    "\n"
   ]
  },
  {
   "cell_type": "code",
   "execution_count": 7,
   "id": "6a272cf2",
   "metadata": {},
   "outputs": [],
   "source": [
    "#Lock method in threading \n",
    "#in lock we can perform the execution with a  \n",
    "\n",
    "\n",
    "from threading import Thread\n",
    "count = 0\n",
    "def increase():\n",
    "    global count\n",
    "    for i in range(1000):\n",
    "        count += 1\n",
    "threads = []\n",
    "n=5\n",
    "for i in range(n):\n",
    "    t = Thread(target=increase)\n",
    "    t.start()\n",
    "    threads.append(t)\n",
    "for t in threads:\n",
    "    t.join()\n"
   ]
  }
 ],
 "metadata": {
  "kernelspec": {
   "display_name": "Python 3",
   "language": "python",
   "name": "python3"
  },
  "language_info": {
   "codemirror_mode": {
    "name": "ipython",
    "version": 3
   },
   "file_extension": ".py",
   "mimetype": "text/x-python",
   "name": "python",
   "nbconvert_exporter": "python",
   "pygments_lexer": "ipython3",
   "version": "3.13.2"
  }
 },
 "nbformat": 4,
 "nbformat_minor": 5
}
