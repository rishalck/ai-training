{
 "cells": [
  {
   "cell_type": "code",
   "execution_count": 1,
   "id": "c8c67401",
   "metadata": {},
   "outputs": [
    {
     "name": "stdout",
     "output_type": "stream",
     "text": [
      "True,True\n"
     ]
    }
   ],
   "source": [
    "#Dunder method / special methods / Double underscore method\n",
    "#from datetime import date\n",
    "\n",
    "class person():\n",
    "    def __init__(self,x,y):\n",
    "        self.x = x\n",
    "        self.y = y   \n",
    "    def __eq__(self,other):\n",
    "        return person(self.x == other.x,self.y == other.y)\n",
    "    def __repr__(self):\n",
    "        return f\"{self.x},{self.y}\"\n",
    "p1 = person(4,3)\n",
    "p2 = person(4,3)\n",
    "print(p1 == p2)        \n",
    "        \n",
    "    \n",
    "        \n"
   ]
  },
  {
   "cell_type": "code",
   "execution_count": 2,
   "id": "a615b202",
   "metadata": {},
   "outputs": [
    {
     "name": "stdout",
     "output_type": "stream",
     "text": [
      "3\n"
     ]
    }
   ],
   "source": [
    "# len method\n",
    "class person():\n",
    "    def __init__(self,data):\n",
    "        self.data = data\n",
    "    def __len__(self):\n",
    "        return len(self.data)\n",
    "\n",
    "m1 = person([15,2,25])\n",
    "print(len(m1))"
   ]
  },
  {
   "cell_type": "code",
   "execution_count": 3,
   "id": "e427caf1",
   "metadata": {},
   "outputs": [
    {
     "name": "stdout",
     "output_type": "stream",
     "text": [
      "5\n",
      "False\n"
     ]
    }
   ],
   "source": [
    "# contains method\n",
    "class person():\n",
    "    def __init__(self,data):\n",
    "        self.data = data\n",
    "    def __len__(self):\n",
    "        return len(self.data)\n",
    "    def __contains__(self,item):\n",
    "        return item in self.data\n",
    "m1 = person([15,2,25,30,100])\n",
    "print(len(m1))\n",
    "print(000 in m1)"
   ]
  },
  {
   "cell_type": "code",
   "execution_count": 4,
   "id": "bb3894b9",
   "metadata": {},
   "outputs": [
    {
     "name": "stdout",
     "output_type": "stream",
     "text": [
      "5\n",
      "False\n",
      "None\n"
     ]
    }
   ],
   "source": [
    "# get item\n",
    "class person():\n",
    "    def __init__(self,data):\n",
    "        self.data = data\n",
    "    def __len__(self):\n",
    "        return len(self.data)\n",
    "    def __contains__(self,item):\n",
    "        return item in self.data\n",
    "    def __getitem__(self,index):\n",
    "        return \n",
    "m1 = person([15,2,25,30,100])\n",
    "print(len(m1))\n",
    "print(000 in m1)\n",
    "print(m1[2])"
   ]
  },
  {
   "cell_type": "code",
   "execution_count": null,
   "id": "914cf629",
   "metadata": {},
   "outputs": [],
   "source": []
  },
  {
   "cell_type": "code",
   "execution_count": null,
   "id": "fec27ef8",
   "metadata": {},
   "outputs": [],
   "source": []
  }
 ],
 "metadata": {
  "kernelspec": {
   "display_name": "Python 3",
   "language": "python",
   "name": "python3"
  },
  "language_info": {
   "codemirror_mode": {
    "name": "ipython",
    "version": 3
   },
   "file_extension": ".py",
   "mimetype": "text/x-python",
   "name": "python",
   "nbconvert_exporter": "python",
   "pygments_lexer": "ipython3",
   "version": "3.13.2"
  }
 },
 "nbformat": 4,
 "nbformat_minor": 5
}
