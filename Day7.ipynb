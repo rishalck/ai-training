{
 "cells": [
  {
   "cell_type": "code",
   "execution_count": 12,
   "id": "7ddc1649",
   "metadata": {},
   "outputs": [],
   "source": [
    "#Exception handling in python\n",
    "#Handling errors\n",
    " # type error - Raised when an operation is applied to an object of inappropriate type.\n",
    "#print(\"hello\" + 5)  # TypeError\n",
    " # syntax error - (mistake(),.)etc are the problems in a program due to which he program will stop \n",
    "#1.a=20}\n",
    "\n",
    " # name error - Raised when a variable is not defined.\n",
    "#print(x)  # NameError\n",
    "\n",
    " # indentation error - when we add extra space to a program it will show indentation error\n",
    "#def hello():\n",
    "#print(\"Hi\")  # IndentationError if not aligned properly\n",
    "\n",
    " #zero division - Raised when a number is divided by zero.\n",
    "#a = 5 / 0  # ZeroDivisionError\n",
    "\n",
    " # key error - Raised when a dictionary key is not found.\n",
    "#d = {\"name\": \"Isha\"}\n",
    "#print(d[\"age\"])  # KeyError\n",
    "\n",
    " # index error - Raised when accessing an index that is out of range.\n",
    "#l = [1, 2, 3]\n",
    "#print(l[5])  # IndexError\n",
    "  \n",
    " # attribute error -\n",
    "  \n",
    " # compilation error -\n",
    "  \n",
    " # runtime error -\n",
    "  \n",
    " # arithmatic error - \n",
    " \n",
    " # module not found error/import - if it is unable to find the module\n",
    "\n",
    " # file not found error -\n",
    "\n",
    " # value error -\n",
    "\n",
    " # keyboard - when an unrequired key  is pressed by the user \n",
    " # IO error - if the file can't be opened \n",
    " # EO error - if End-of-File is hit without reading any data \n",
    "\n"
   ]
  },
  {
   "cell_type": "code",
   "execution_count": null,
   "id": "e9ec176a",
   "metadata": {},
   "outputs": [],
   "source": [
    "#*the try block lets you test a block of code for errors\n",
    "#*the except block lets you handle the error\n",
    "#*the else block lets you execute code,regardless of the result of the try-and except blocks\n",
    "\n"
   ]
  },
  {
   "cell_type": "code",
   "execution_count": null,
   "id": "bae73c00",
   "metadata": {},
   "outputs": [
    {
     "name": "stdout",
     "output_type": "stream",
     "text": [
      "it divides by zero\n",
      "The code executed successfully\n"
     ]
    }
   ],
   "source": [
    "#try block - execute code.\n",
    "#except - handle error\n",
    "#else - it will execute if there is no error\n",
    "#finally - \n",
    "\n",
    "import numbers\n",
    "\n",
    "\n",
    "number = int(input())\n",
    "try:\n",
    "    var = number/0\n",
    "    print(var)\n",
    "except(ZeroDivisionError):\n",
    "    print(\"it divides by zero\")\n",
    "except(ValueError):\n",
    "    print(\"please enter the integer value\")\n",
    "else:\n",
    "    print(\"\")\n",
    "finally:\n",
    "    print(\"The code executed successfully\")"
   ]
  },
  {
   "cell_type": "code",
   "execution_count": null,
   "id": "eeb4de5c",
   "metadata": {},
   "outputs": [
    {
     "name": "stdout",
     "output_type": "stream",
     "text": [
      "you guys are very smart especially bye bye bye\n",
      "the file was read successfully\n",
      "its done\n"
     ]
    }
   ],
   "source": [
    "try:\n",
    "    file=open(\"demo.txt\",\"r\")\n",
    "    content=file.read()\n",
    "    print(content)\n",
    "except(FileNotFoundError):\n",
    "    print(\"there is no file\")\n",
    "else:\n",
    "    print(\"the file was read successfully\")\n",
    "finally:\n",
    "    print(\"its done\")"
   ]
  },
  {
   "cell_type": "code",
   "execution_count": null,
   "id": "1695b169",
   "metadata": {},
   "outputs": [
    {
     "name": "stdout",
     "output_type": "stream",
     "text": [
      "yeah\n",
      "end\n"
     ]
    }
   ],
   "source": [
    "#input about 18 try except else finally\n",
    "\n",
    "age=int(input(\"enter the age\"))\n",
    "\n",
    "try:\n",
    "    if age>18:\n",
    "        print(\"eligible\")\n",
    "except(ValueError):\n",
    "    print(\"not eligible\")\n",
    "else:\n",
    "    print(\"yeah\")\n",
    "finally:\n",
    "    print(\"end\")\n",
    "\n"
   ]
  },
  {
   "cell_type": "code",
   "execution_count": null,
   "id": "4a7ed0af",
   "metadata": {},
   "outputs": [],
   "source": [
    "#OOPS\n",
    " #-who's going \n",
    " #-how much mone we need\n",
    " #-what about the food\n",
    " #-where we need to stay\n",
    " #-who will book the tickets\n",
    " #-class - collection of object\n",
    " #-object - instance of a class\n"
   ]
  },
  {
   "cell_type": "code",
   "execution_count": null,
   "id": "f50dafc1",
   "metadata": {},
   "outputs": [
    {
     "name": "stdout",
     "output_type": "stream",
     "text": [
      "To see the sunset\n",
      "lets have a vibe\n"
     ]
    }
   ],
   "source": [
    "class GoaTrip():\n",
    "    def beach(a):\n",
    "        print(\"To see the sunset\")\n",
    "    def party(t):\n",
    "        print(\"lets have a vibe\")\n",
    "abinav = GoaTrip()\n",
    "tebin = GoaTrip()\n",
    "abinav.beach()\n",
    "tebin.party()\n",
    "\n",
    "    "
   ]
  },
  {
   "cell_type": "code",
   "execution_count": null,
   "id": "93bdc404",
   "metadata": {},
   "outputs": [
    {
     "name": "stdout",
     "output_type": "stream",
     "text": [
      "meera here is you food\n",
      "akshay payment successfully completed\n"
     ]
    }
   ],
   "source": [
    "#\n",
    "class delivary():\n",
    "    name = \"isha\"\n",
    "    def iteam(ac):\n",
    "        print(f\"{ac.name}here is you food\")\n",
    "    def payment(ca):\n",
    "        print(f\"{ca.name}payment successfully completed\")\n",
    "meera = delivary()\n",
    "akshay = delivary()\n",
    "meera.name =\"meera \"\n",
    "akshay.name =\"akshay \"\n",
    "meera.iteam()\n",
    "akshay.payment()\n"
   ]
  },
  {
   "cell_type": "code",
   "execution_count": 11,
   "id": "f484eeb7",
   "metadata": {},
   "outputs": [],
   "source": [
    "class bankaccount():\n",
    "    def __init__ (self,deposite,withdraw,balance=0):\n",
    "        withdraw=50000\n",
    "        deposite=100000\n",
    "        self.balance=balance\n",
    "        self.withdraw=withdraw\n",
    "        self.deposite=deposite\n",
    "    def deposite(self,amount):\n",
    "        self.balance +=amount\n",
    "        print(f\"Deposite ₹{amount}\")\n",
    "    def withdraw(self,amount):\n",
    "        self.withdraw=withdraw\n",
    "        self.deposite=deposite\n",
    "        \n",
    "        \n",
    "    def show_withdraw(self):\n",
    "        print(f\"withdrawn amount: ₹{self.withdraw}\")\n",
    "    def amount(amount):\n",
    "        print(f\"deposite amount: ₹{self.deposite}\")\n"
   ]
  },
  {
   "cell_type": "markdown",
   "id": "dd9f5747",
   "metadata": {},
   "source": [
    "class bank account \n",
    "\n",
    "deposite\n",
    "\n",
    "withdraw\n",
    "\n",
    "initalize balance\n",
    "\n",
    "if you get the amount show the balance \n",
    "\n",
    "and the withdrawal "
   ]
  },
  {
   "cell_type": "code",
   "execution_count": null,
   "id": "3326e29a",
   "metadata": {},
   "outputs": [
    {
     "name": "stdout",
     "output_type": "stream",
     "text": [
      "Deposited ₹500. New balance: 1500\n",
      "Withdrew ₹300. Remaining balance: 1200\n"
     ]
    }
   ],
   "source": [
    "class Bank:\n",
    "    def __init__(self, balance=0):\n",
    "        self.balance = balance\n",
    "\n",
    "    def deposit(self, amount):\n",
    "        if(amount<=0):\n",
    "            raise ValueError(\"invalid\")\n",
    "        self.balance += amount\n",
    "        print(f\"Deposited ₹{amount}. New balance: {self.balance}\")\n",
    "\n",
    "    def withdraw(self, amount):\n",
    "        if amount > self.balance:\n",
    "            print(\"Insufficient balance.\")\n",
    "        self.balance -= amount\n",
    "        print(f\"Withdrew ₹{amount}. Remaining balance: {self.balance}\")\n",
    "     \n",
    "account = Bank(1000) \n",
    "account.deposit(500)\n",
    "account.withdraw(300)\n"
   ]
  },
  {
   "cell_type": "code",
   "execution_count": 13,
   "id": "968c11ca",
   "metadata": {},
   "outputs": [],
   "source": [
    "def rectangle():\n",
    "    def __init__(self,height,width):\n",
    "        self.height = height\n",
    "        self.width = width\n",
    "    def area(self):\n",
    "        return self.height*self.width\n",
    "    def perimetere(self):\n",
    "        return\n",
    "    r1=rectangle(56,89)\n",
    "    r1.area()\n",
    "    r1.perimeter()"
   ]
  }
 ],
 "metadata": {
  "kernelspec": {
   "display_name": "Python 3",
   "language": "python",
   "name": "python3"
  },
  "language_info": {
   "codemirror_mode": {
    "name": "ipython",
    "version": 3
   },
   "file_extension": ".py",
   "mimetype": "text/x-python",
   "name": "python",
   "nbconvert_exporter": "python",
   "pygments_lexer": "ipython3",
   "version": "3.13.2"
  }
 },
 "nbformat": 4,
 "nbformat_minor": 5
}
